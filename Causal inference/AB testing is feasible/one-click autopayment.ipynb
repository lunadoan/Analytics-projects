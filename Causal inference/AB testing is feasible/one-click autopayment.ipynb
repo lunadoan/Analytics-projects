{
 "cells": [
  {
   "cell_type": "markdown",
   "metadata": {},
   "source": [
    "# Does one-click autopayment enrollment increases user adoption of autopayment?\n",
    "(not promotion or communication that encourage customers to sign up)"
   ]
  },
  {
   "cell_type": "code",
   "execution_count": null,
   "metadata": {},
   "outputs": [],
   "source": []
  }
 ],
 "metadata": {
  "language_info": {
   "name": "python"
  }
 },
 "nbformat": 4,
 "nbformat_minor": 2
}
